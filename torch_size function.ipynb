{
 "cells": [
  {
   "cell_type": "code",
   "execution_count": 1,
   "metadata": {},
   "outputs": [],
   "source": [
    "import torch"
   ]
  },
  {
   "cell_type": "code",
   "execution_count": 14,
   "metadata": {},
   "outputs": [
    {
     "name": "stdout",
     "output_type": "stream",
     "text": [
      "x_size =  torch.Size([4, 4])\n",
      "x =  tensor([[-0.8201,  0.3956,  0.8989, -1.3884],\n",
      "        [-0.1670,  0.2851, -0.6411, -0.8937],\n",
      "        [ 0.9265, -0.5355, -1.1597, -0.4602],\n",
      "        [ 0.7085,  1.0128,  0.2304,  1.0902]])\n",
      "y_size =  torch.Size([16])\n",
      "y =  tensor([-0.8201,  0.3956,  0.8989, -1.3884, -0.1670,  0.2851, -0.6411, -0.8937,\n",
      "         0.9265, -0.5355, -1.1597, -0.4602,  0.7085,  1.0128,  0.2304,  1.0902])\n",
      "z_size =  torch.Size([2, 8])\n",
      "z =  tensor([[-0.8201,  0.3956,  0.8989, -1.3884, -0.1670,  0.2851, -0.6411, -0.8937],\n",
      "        [ 0.9265, -0.5355, -1.1597, -0.4602,  0.7085,  1.0128,  0.2304,  1.0902]])\n"
     ]
    }
   ],
   "source": [
    "# manual seed for repeatability\n",
    "torch.manual_seed(7)\n",
    "\n",
    "# intialize 4x4 matrix\n",
    "x = torch.randn(4, 4)\n",
    "\n",
    "# print the size of tensor x and the values of tensor x\n",
    "print(\"x_size = \", x.size())\n",
    "print(\"x = \", x)\n",
    "\n",
    "# The data is reshaped into a 1D 16 element tensor\n",
    "y = x.view(16)\n",
    "print(\"y_size = \", y.size())\n",
    "print(\"y = \", y)\n",
    "\n",
    "# Using \"-1\" as input into view function\n",
    "\n",
    "z = x.view(-1, 8)  \n",
    "# From the documentation they state: \"the size -1 is inferred from other dimensions\" \n",
    "# For this example, the column dimension provided serves as the restriction for the number of rows computed\n",
    "# Result: the tensor is reshaped into a 2 row, 8 column matrix -> still contains 16 data points\n",
    "\n",
    "print(\"z_size = \", z.size())\n",
    "print(\"z = \", z)\n",
    "\n"
   ]
  },
  {
   "cell_type": "code",
   "execution_count": null,
   "metadata": {},
   "outputs": [],
   "source": []
  },
  {
   "cell_type": "code",
   "execution_count": null,
   "metadata": {},
   "outputs": [],
   "source": []
  },
  {
   "cell_type": "code",
   "execution_count": null,
   "metadata": {},
   "outputs": [],
   "source": []
  }
 ],
 "metadata": {
  "kernelspec": {
   "display_name": "Python 3",
   "language": "python",
   "name": "python3"
  },
  "language_info": {
   "codemirror_mode": {
    "name": "ipython",
    "version": 3
   },
   "file_extension": ".py",
   "mimetype": "text/x-python",
   "name": "python",
   "nbconvert_exporter": "python",
   "pygments_lexer": "ipython3",
   "version": "3.7.3"
  }
 },
 "nbformat": 4,
 "nbformat_minor": 2
}
